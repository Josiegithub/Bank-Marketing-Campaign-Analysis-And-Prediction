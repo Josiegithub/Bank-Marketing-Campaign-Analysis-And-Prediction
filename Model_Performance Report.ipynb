{
 "cells": [
  {
   "cell_type": "markdown",
   "metadata": {},
   "source": [
    "1. #### For Logistic Regression Model"
   ]
  },
  {
   "cell_type": "markdown",
   "metadata": {},
   "source": [
    "**Model Evaluation:**\n",
    "Accuracy Score: The model achieved an accuracy of 79.26% on the test set. This means that the model correctly predicted the outcome approximately 79% of the time, which is quite good for a baseline model.\n",
    "\n",
    "Classification Report:\n",
    "\n",
    "Class 0 (No Subscription):\n",
    "Precision: 0.95, Recall: 0.81, F1-score: 0.87\n",
    "Precision of 0.95 means that when the model predicts no subscription, it is correct 95% of the time.\n",
    "Recall of 0.81 indicates that the model correctly identifies 81% of all actual no subscription cases.\n",
    "Class 1 (Subscription):\n",
    "Precision: 0.30, Recall: 0.64, F1-score: 0.41\n",
    "The precision of 0.30 suggests that when the model predicts subscription, it is only correct 30% of the time, which is low.\n",
    "The recall of 0.64 means the model is able to identify 64% of all actual subscription cases, which is better but still far from perfect.\n",
    "Key takeaway: The model performs well for the no subscription class but has much lower performance for the subscription class. This indicates that there might be some imbalance in the data distribution, despite the use of SMOTE.\n",
    "\n",
    "Confusion Matrix:\n",
    "\n",
    "True Positives (TP) = 590\n",
    "True Negatives (TN) = 5938\n",
    "False Positives (FP) = 1370\n",
    "False Negatives (FN) = 338\n",
    "This suggests that the model is more likely to predict no subscription (class 0) correctly but misses a significant number of subscription cases (false negatives)."
   ]
  }
 ],
 "metadata": {
  "language_info": {
   "name": "python"
  }
 },
 "nbformat": 4,
 "nbformat_minor": 2
}
