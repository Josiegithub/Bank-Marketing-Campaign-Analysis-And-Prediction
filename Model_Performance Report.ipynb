{
 "cells": [
  {
   "cell_type": "markdown",
   "metadata": {},
   "source": [
    "### Bank Deposit Prediction Report  \n",
    "\n",
    "#### **1. Introduction**  \n",
    "The goal of this project was to analyze factors influencing subscription rates for a marketing campaign and provide actionable insights to optimize future strategies. The analysis focused on customer demographics, economic indicators, and communication strategies, aiming to uncover patterns that drive higher subscription rates.  \n",
    "\n",
    "\n",
    "#### **2. Data Preprocessing**  \n",
    "I began by reviewing and cleaning the dataset, which included handling missing values, removing duplicates, and standardizing inconsistent entries. To enhance the analysis, I created new features, such as categorizing age into meaningful groups and analyzing subscription likelihood by job type. Categorical variables, like marital status and job category, were encoded for compatibility with modeling techniques.  \n",
    "\n",
    "\n",
    "#### **3. Data Exploration and Visualization**  \n",
    "I performed exploratory analysis to identify key trends:  \n",
    "- Singles had notably higher subscription rates across most job categories.  \n",
    "- Subscriptions spiked during March and December, indicating clear seasonal trends.  \n",
    "- Economic factors, such as homeownership and low Euribor rates, showed strong correlations with higher subscriptions.  \n",
    "\n",
    "Visualizations, including bar charts, heatmaps, and line graphs, helped in answering some bussiness questions and helped identifying these patterns and communicating the findings effectively.  \n",
    "\n",
    "#### **4. Data Modifications**  \n",
    "To prepare the data for modeling, I made a few adjustments:  \n",
    "- Recategorised the educational data into 5 rather than 8 different types\n",
    "- Converted the data to the right data types  \n",
    "- Split the data into training and testing sets to ensure the reliability of the models.  \n",
    "\n",
    "\n",
    "#### **5. Model Selection and Evaluation**  \n",
    "4 models were trained and LightGBM came out as the best model. , as the problem involved predicting a binary outcome (subscription or not). This model was chosen for its simplicity,speed, interpretability, and strong performance during initial testing.  \n",
    "- **Performance Metrics:**  \n",
    "  - **LightGBM**: With an impressive accuracy of 91.7%. Its F1 score of 91.95% reflects a great balance between precision and recall, making it the top choice for this task.\n",
    "- Alternative models, such as Decision Trees,KNN were tested but did not outperform LightGBM Model in terms of both interpretability and overall performance.  \n",
    "\n",
    "\n",
    "#### **6. Findings and Insights**  \n",
    "- **Demographics:** Singles and university-educated individuals, particularly those under 30 or between 50–60, are the most likely to subscribe.  \n",
    "- **Economic Factors:** Homeowners and individuals in favorable economic conditions (e.g., no loan defaults, low Euribor rates) exhibit higher subscription likelihoods.  \n",
    "- **Contact Methods:** Internet-based communication is more effective than phone calls, and regular weekly contact improves engagement.  \n",
    "- **Seasonality:** Subscription rates are highest in March and December, making these months critical for targeted campaigns.  \n",
    "- **Campaign History:** Customers with positive outcomes in previous campaigns respond better, especially with follow-up emails and higher contact frequency.  \n",
    "\n",
    "\n",
    "#### **7. Recommendations**  \n",
    "Based on these insights, I recommend:  \n",
    "1. Focusing on high-potential segments, such as singles and university-educated individuals, for tailored campaigns.  \n",
    "2. Targeting homeowners and avoiding high-risk groups (e.g., those with loan defaults).  \n",
    "3. Utilizing internet-based communication and maximizing outreach during March and December.  \n",
    "4. Leveraging data from previous campaigns to identify and prioritize individuals with positive historical responses.  \n",
    "\n",
    "\n",
    "#### **8. Conclusion**  \n",
    "This project provided a comprehensive understanding of the factors influencing subscription rates and highlighted strategies for optimizing marketing efforts. With data-driven targeting and effective communication methods, these recommendations can significantly improve campaign performance for the marketting team.   "
   ]
  },
  {
   "cell_type": "markdown",
   "metadata": {},
   "source": [
    "#### **Impact and Value**\n",
    "This project will empower Azubi Bank to:  \n",
    "- Make data-driven decisions, improving the efficiency and effectiveness of marketing campaigns.  \n",
    "- Identify and focus on high-potential customers, reducing costs and increasing revenue.  \n",
    "- Understand customer behavior and preferences, allowing for personalized marketing strategies.  \n",
    "\n",
    "By leveraging advanced data analytics and machine learning, Azubi Bank can position itself as a leader in customer-centric banking while achieving its business objectives.  "
   ]
  }
 ],
 "metadata": {
  "language_info": {
   "name": "python"
  }
 },
 "nbformat": 4,
 "nbformat_minor": 2
}
