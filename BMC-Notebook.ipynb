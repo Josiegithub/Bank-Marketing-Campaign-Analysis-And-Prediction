{
 "cells": [
  {
   "cell_type": "markdown",
   "metadata": {},
   "source": [
    "# Bank Marketing Campaign Analysis And Prediction #\n"
   ]
  },
  {
   "cell_type": "markdown",
   "metadata": {},
   "source": [
    "## Project Overview ##\n",
    "\n",
    "The goal of this project is to analyze a bank marketing campaign data set, identify key features that contribute to customer subscription, and build a predictive model to predict the likelihood of a customer subscribing to a term deposit. The analysis will involve data preprocessing, exploratory data analysis, feature selection, model training, and model evaluation."
   ]
  }
 ],
 "metadata": {
  "kernelspec": {
   "display_name": "myvirtual-env",
   "language": "python",
   "name": "python3"
  },
  "language_info": {
   "name": "python",
   "version": "3.11.4"
  }
 },
 "nbformat": 4,
 "nbformat_minor": 2
}
